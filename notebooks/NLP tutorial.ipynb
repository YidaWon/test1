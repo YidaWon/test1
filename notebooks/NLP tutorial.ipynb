{
 "cells": [
  {
   "cell_type": "code",
   "execution_count": 12,
   "metadata": {},
   "outputs": [],
   "source": [
    "import nltk, gensim"
   ]
  },
  {
   "cell_type": "code",
   "execution_count": 23,
   "metadata": {
    "scrolled": true
   },
   "outputs": [],
   "source": [
    "import ssl\n",
    "ssl._create_default_https_context = ssl._create_unverified_context"
   ]
  },
  {
   "cell_type": "markdown",
   "metadata": {},
   "source": [
    "Text from: https://en.wikipedia.org/wiki/Jedi"
   ]
  },
  {
   "cell_type": "code",
   "execution_count": 13,
   "metadata": {},
   "outputs": [],
   "source": [
    "text = 'The Jedi Order mostly consists of polymaths; teachers, philosophers, scientists, engineers, physicians, diplomats, and warriors. The Jedi moral value system viewed purity of thought and detachment of emotions as essential to enlightenment. Jedi philosophy emphasized self-improvement through knowledge and wisdom, adherence to slave morality, and selfless service through acts of charity, citizenship, and volunteerism; this ideology is a recurring theme in the Star Wars universe. The Jedi denounce emotions as the root of mortal suffering; they believe fear, anger and love cause sentient beings to lash out in conflict and impede rational action to do what is right. Their traditional weapon is the lightsaber, a device which generates a blade-like plasma powered by a Kyber crystal or other focusing item, ex. Krayt Pearl. The fictional organization has inspired a real-world new religious movement, Jediism.'"
   ]
  },
  {
   "cell_type": "code",
   "execution_count": 14,
   "metadata": {},
   "outputs": [
    {
     "data": {
      "text/plain": [
       "['The Jedi Order mostly consists of polymaths; teachers, philosophers, scientists, engineers, physicians, diplomats, and warriors',\n",
       " 'The Jedi moral value system viewed purity of thought and detachment of emotions as essential to enlightenment',\n",
       " 'Jedi philosophy emphasized self-improvement through knowledge and wisdom, adherence to slave morality, and selfless service through acts of charity, citizenship, and volunteerism; this ideology is a recurring theme in the Star Wars universe',\n",
       " 'The Jedi denounce emotions as the root of mortal suffering; they believe fear, anger and love cause sentient beings to lash out in conflict and impede rational action to do what is right',\n",
       " 'Their traditional weapon is the lightsaber, a device which generates a blade-like plasma powered by a Kyber crystal or other focusing item, ex',\n",
       " 'Krayt Pearl',\n",
       " 'The fictional organization has inspired a real-world new religious movement, Jediism']"
      ]
     },
     "execution_count": 14,
     "metadata": {},
     "output_type": "execute_result"
    }
   ],
   "source": [
    "#Obtaining sentences\n",
    "sentences = text.split('.')\n",
    "sentences = [s.strip() for s in sentences if s.strip() != \"\"]\n",
    "sentences"
   ]
  },
  {
   "cell_type": "code",
   "execution_count": 15,
   "metadata": {},
   "outputs": [
    {
     "data": {
      "text/plain": [
       "['the jedi order mostli consist of polymaths; teachers, philosophers, scientists, engineers, physicians, diplomats, and warrior',\n",
       " 'the jedi moral valu system view puriti of thought and detach of emot as essenti to enlighten',\n",
       " 'jedi philosophi emphas self-improv through knowledg and wisdom, adher to slave morality, and selfless servic through act of charity, citizenship, and volunteerism; thi ideolog is a recur theme in the star war univers',\n",
       " 'the jedi denounc emot as the root of mortal suffering; thei believ fear, anger and love caus sentient be to lash out in conflict and imped ration action to do what is right',\n",
       " 'their tradit weapon is the lightsaber, a devic which gener a blade-lik plasma power by a kyber crystal or other focus item, ex',\n",
       " 'krayt pearl',\n",
       " 'the fiction organ ha inspir a real-world new religi movement, jediism']"
      ]
     },
     "execution_count": 15,
     "metadata": {},
     "output_type": "execute_result"
    }
   ],
   "source": [
    "#Stemming using gensim\n",
    "from gensim.parsing.porter import PorterStemmer\n",
    "\n",
    "p = PorterStemmer()\n",
    "[p.stem_sentence(s) for s in sentences]"
   ]
  },
  {
   "cell_type": "code",
   "execution_count": 25,
   "metadata": {},
   "outputs": [
    {
     "name": "stdout",
     "output_type": "stream",
     "text": [
      "[('warriors', 'warrior')]\n",
      "[('emotions', 'emotion'), ('as', 'a')]\n",
      "[('acts', 'act')]\n",
      "[('emotions', 'emotion'), ('as', 'a'), ('beings', 'being')]\n",
      "[]\n",
      "[]\n",
      "[('has', 'ha')]\n"
     ]
    }
   ],
   "source": [
    "#Lemmatization using nltk\n",
    "from nltk.stem import WordNetLemmatizer\n",
    "l = WordNetLemmatizer()\n",
    "for s in sentences:\n",
    "    print([(w, l.lemmatize(w)) for w in s.split() if w != l.lemmatize(w)])"
   ]
  },
  {
   "cell_type": "code",
   "execution_count": 29,
   "metadata": {},
   "outputs": [
    {
     "data": {
      "text/plain": [
       "[['The',\n",
       "  'Jedi',\n",
       "  'Order',\n",
       "  'mostly',\n",
       "  'consists',\n",
       "  'of',\n",
       "  'polymaths',\n",
       "  ';',\n",
       "  'teachers',\n",
       "  ',',\n",
       "  'philosophers',\n",
       "  ',',\n",
       "  'scientists',\n",
       "  ',',\n",
       "  'engineers',\n",
       "  ',',\n",
       "  'physicians',\n",
       "  ',',\n",
       "  'diplomats',\n",
       "  ',',\n",
       "  'and',\n",
       "  'warriors'],\n",
       " ['The',\n",
       "  'Jedi',\n",
       "  'moral',\n",
       "  'value',\n",
       "  'system',\n",
       "  'viewed',\n",
       "  'purity',\n",
       "  'of',\n",
       "  'thought',\n",
       "  'and',\n",
       "  'detachment',\n",
       "  'of',\n",
       "  'emotions',\n",
       "  'as',\n",
       "  'essential',\n",
       "  'to',\n",
       "  'enlightenment'],\n",
       " ['Jedi',\n",
       "  'philosophy',\n",
       "  'emphasized',\n",
       "  'self-improvement',\n",
       "  'through',\n",
       "  'knowledge',\n",
       "  'and',\n",
       "  'wisdom',\n",
       "  ',',\n",
       "  'adherence',\n",
       "  'to',\n",
       "  'slave',\n",
       "  'morality',\n",
       "  ',',\n",
       "  'and',\n",
       "  'selfless',\n",
       "  'service',\n",
       "  'through',\n",
       "  'acts',\n",
       "  'of',\n",
       "  'charity',\n",
       "  ',',\n",
       "  'citizenship',\n",
       "  ',',\n",
       "  'and',\n",
       "  'volunteerism',\n",
       "  ';',\n",
       "  'this',\n",
       "  'ideology',\n",
       "  'is',\n",
       "  'a',\n",
       "  'recurring',\n",
       "  'theme',\n",
       "  'in',\n",
       "  'the',\n",
       "  'Star',\n",
       "  'Wars',\n",
       "  'universe'],\n",
       " ['The',\n",
       "  'Jedi',\n",
       "  'denounce',\n",
       "  'emotions',\n",
       "  'as',\n",
       "  'the',\n",
       "  'root',\n",
       "  'of',\n",
       "  'mortal',\n",
       "  'suffering',\n",
       "  ';',\n",
       "  'they',\n",
       "  'believe',\n",
       "  'fear',\n",
       "  ',',\n",
       "  'anger',\n",
       "  'and',\n",
       "  'love',\n",
       "  'cause',\n",
       "  'sentient',\n",
       "  'beings',\n",
       "  'to',\n",
       "  'lash',\n",
       "  'out',\n",
       "  'in',\n",
       "  'conflict',\n",
       "  'and',\n",
       "  'impede',\n",
       "  'rational',\n",
       "  'action',\n",
       "  'to',\n",
       "  'do',\n",
       "  'what',\n",
       "  'is',\n",
       "  'right'],\n",
       " ['Their',\n",
       "  'traditional',\n",
       "  'weapon',\n",
       "  'is',\n",
       "  'the',\n",
       "  'lightsaber',\n",
       "  ',',\n",
       "  'a',\n",
       "  'device',\n",
       "  'which',\n",
       "  'generates',\n",
       "  'a',\n",
       "  'blade-like',\n",
       "  'plasma',\n",
       "  'powered',\n",
       "  'by',\n",
       "  'a',\n",
       "  'Kyber',\n",
       "  'crystal',\n",
       "  'or',\n",
       "  'other',\n",
       "  'focusing',\n",
       "  'item',\n",
       "  ',',\n",
       "  'ex'],\n",
       " ['Krayt', 'Pearl'],\n",
       " ['The',\n",
       "  'fictional',\n",
       "  'organization',\n",
       "  'has',\n",
       "  'inspired',\n",
       "  'a',\n",
       "  'real-world',\n",
       "  'new',\n",
       "  'religious',\n",
       "  'movement',\n",
       "  ',',\n",
       "  'Jediism']]"
      ]
     },
     "execution_count": 29,
     "metadata": {},
     "output_type": "execute_result"
    }
   ],
   "source": [
    "[nltk.word_tokenize(s) for s in sentences]"
   ]
  },
  {
   "cell_type": "code",
   "execution_count": 71,
   "metadata": {},
   "outputs": [
    {
     "data": {
      "text/plain": [
       "[('Jedi', 'NNP'),\n",
       " ('philosophy', 'NN'),\n",
       " ('emphasized', 'VBD'),\n",
       " ('self-improvement', 'JJ'),\n",
       " ('through', 'IN'),\n",
       " ('knowledge', 'NN'),\n",
       " ('and', 'CC'),\n",
       " ('wisdom', 'NN'),\n",
       " (',', ','),\n",
       " ('adherence', 'NN'),\n",
       " ('to', 'TO'),\n",
       " ('slave', 'VB'),\n",
       " ('morality', 'NN'),\n",
       " (',', ','),\n",
       " ('and', 'CC'),\n",
       " ('selfless', 'JJ'),\n",
       " ('service', 'NN'),\n",
       " ('through', 'IN'),\n",
       " ('acts', 'NNS'),\n",
       " ('of', 'IN'),\n",
       " ('charity', 'NN'),\n",
       " (',', ','),\n",
       " ('citizenship', 'NN'),\n",
       " (',', ','),\n",
       " ('and', 'CC'),\n",
       " ('volunteerism', 'NN'),\n",
       " (';', ':'),\n",
       " ('this', 'DT'),\n",
       " ('ideology', 'NN'),\n",
       " ('is', 'VBZ'),\n",
       " ('a', 'DT'),\n",
       " ('recurring', 'VBG'),\n",
       " ('theme', 'NN'),\n",
       " ('in', 'IN'),\n",
       " ('the', 'DT'),\n",
       " ('Star', 'NNP'),\n",
       " ('Wars', 'NNP'),\n",
       " ('universe', 'NN')]"
      ]
     },
     "execution_count": 71,
     "metadata": {},
     "output_type": "execute_result"
    }
   ],
   "source": [
    "tokens = nltk.word_tokenize(sentences[2])\n",
    "nltk.pos_tag(tokens)"
   ]
  },
  {
   "cell_type": "code",
   "execution_count": 45,
   "metadata": {},
   "outputs": [],
   "source": [
    "meanings_raw = '''\n",
    "CC coordinating conjunction\n",
    "CD cardinal digit\n",
    "DT determiner\n",
    "EX existential there (like: “there is” … think of it like “there exists”)\n",
    "FW foreign word\n",
    "IN preposition/subordinating conjunction\n",
    "JJ adjective ‘big’\n",
    "JJR adjective, comparative ‘bigger’\n",
    "JJS adjective, superlative ‘biggest’\n",
    "LS list marker 1)\n",
    "MD modal could, will\n",
    "NN noun, singular ‘desk’\n",
    "NNS noun plural ‘desks’\n",
    "NNP proper noun, singular ‘Harrison’\n",
    "NNPS proper noun, plural ‘Americans’\n",
    "PDT predeterminer ‘all the kids’\n",
    "POS possessive ending parent’s\n",
    "PRP personal pronoun I, he, she\n",
    "PRP$ possessive pronoun my, his, hers\n",
    "RB adverb very, silently,\n",
    "RBR adverb, comparative better\n",
    "RBS adverb, superlative best\n",
    "RP particle give up\n",
    "TO, to go ‘to’ the store.\n",
    "UH interjection, errrrrrrrm\n",
    "VB verb, base form take\n",
    "VBD verb, past tense took\n",
    "VBG verb, gerund/present participle taking\n",
    "VBN verb, past participle taken\n",
    "VBP verb, sing. present, non-3d take\n",
    "VBZ verb, 3rd person sing. present takes\n",
    "WDT wh-determiner which\n",
    "WP wh-pronoun who, what\n",
    "WP$ possessive wh-pronoun whose\n",
    "WRB wh-abverb where, when\n",
    "'''"
   ]
  },
  {
   "cell_type": "code",
   "execution_count": 46,
   "metadata": {},
   "outputs": [],
   "source": [
    "meanings_raw = [m for m in meanings_raw.split('\\n') if m != '']"
   ]
  },
  {
   "cell_type": "code",
   "execution_count": 50,
   "metadata": {},
   "outputs": [
    {
     "data": {
      "text/plain": [
       "{'CC': 'coordinating conjunction',\n",
       " 'CD': 'cardinal digit',\n",
       " 'DT': 'determiner',\n",
       " 'EX': 'existential there (like: “there is” … think of it like “there exists”)',\n",
       " 'FW': 'foreign word',\n",
       " 'IN': 'preposition/subordinating conjunction',\n",
       " 'JJ': 'adjective ‘big’',\n",
       " 'JJR': 'adjective, comparative ‘bigger’',\n",
       " 'JJS': 'adjective, superlative ‘biggest’',\n",
       " 'LS': 'list marker 1)',\n",
       " 'MD': 'modal could, will',\n",
       " 'NN': 'noun, singular ‘desk’',\n",
       " 'NNS': 'noun plural ‘desks’',\n",
       " 'NNP': 'proper noun, singular ‘Harrison’',\n",
       " 'NNPS': 'proper noun, plural ‘Americans’',\n",
       " 'PDT': 'predeterminer ‘all the kids’',\n",
       " 'POS': 'possessive ending parent’s',\n",
       " 'PRP': 'personal pronoun I, he, she',\n",
       " 'PRP$': 'possessive pronoun my, his, hers',\n",
       " 'RB': 'adverb very, silently,',\n",
       " 'RBR': 'adverb, comparative better',\n",
       " 'RBS': 'adverb, superlative best',\n",
       " 'RP': 'particle give up',\n",
       " 'TO,': 'to go ‘to’ the store.',\n",
       " 'UH': 'interjection, errrrrrrrm',\n",
       " 'VB': 'verb, base form take',\n",
       " 'VBD': 'verb, past tense took',\n",
       " 'VBG': 'verb, gerund/present participle taking',\n",
       " 'VBN': 'verb, past participle taken',\n",
       " 'VBP': 'verb, sing. present, non-3d take',\n",
       " 'VBZ': 'verb, 3rd person sing. present takes',\n",
       " 'WDT': 'wh-determiner which',\n",
       " 'WP': 'wh-pronoun who, what',\n",
       " 'WP$': 'possessive wh-pronoun whose',\n",
       " 'WRB': 'wh-abverb where, when'}"
      ]
     },
     "execution_count": 50,
     "metadata": {},
     "output_type": "execute_result"
    }
   ],
   "source": [
    "meanings = {}\n",
    "for line in meanings_raw:\n",
    "    words = line.split(' ')\n",
    "    key = words[0]\n",
    "    value = ' '.join(words[1:])\n",
    "    meanings[key] = value\n",
    "    \n",
    "meanings    "
   ]
  },
  {
   "cell_type": "code",
   "execution_count": 72,
   "metadata": {},
   "outputs": [
    {
     "name": "stdout",
     "output_type": "stream",
     "text": [
      "                Jedi --> proper noun, singular ‘Harrison’\n",
      "          philosophy --> noun, singular ‘desk’\n",
      "          emphasized --> verb, past tense took\n",
      "    self-improvement --> adjective ‘big’\n",
      "             through --> preposition/subordinating conjunction\n",
      "           knowledge --> noun, singular ‘desk’\n",
      "                 and --> coordinating conjunction\n",
      "              wisdom --> noun, singular ‘desk’\n",
      "           adherence --> noun, singular ‘desk’\n",
      "               slave --> verb, base form take\n",
      "            morality --> noun, singular ‘desk’\n",
      "                 and --> coordinating conjunction\n",
      "            selfless --> adjective ‘big’\n",
      "             service --> noun, singular ‘desk’\n",
      "             through --> preposition/subordinating conjunction\n",
      "                acts --> noun plural ‘desks’\n",
      "                  of --> preposition/subordinating conjunction\n",
      "             charity --> noun, singular ‘desk’\n",
      "         citizenship --> noun, singular ‘desk’\n",
      "                 and --> coordinating conjunction\n",
      "        volunteerism --> noun, singular ‘desk’\n",
      "                this --> determiner\n",
      "            ideology --> noun, singular ‘desk’\n",
      "                  is --> verb, 3rd person sing. present takes\n",
      "                   a --> determiner\n",
      "           recurring --> verb, gerund/present participle taking\n",
      "               theme --> noun, singular ‘desk’\n",
      "                  in --> preposition/subordinating conjunction\n",
      "                 the --> determiner\n",
      "                Star --> proper noun, singular ‘Harrison’\n",
      "                Wars --> proper noun, singular ‘Harrison’\n",
      "            universe --> noun, singular ‘desk’\n"
     ]
    }
   ],
   "source": [
    "pos_tag = nltk.pos_tag(tokens)\n",
    "for tup in pos_tag:\n",
    "    if tup[1] in meanings:\n",
    "        print(f'{tup[0].rjust(20)} --> {meanings[tup[1]]}') "
   ]
  },
  {
   "cell_type": "markdown",
   "metadata": {},
   "source": [
    "## Generating Word Vectors  \n",
    "Checking the basic working of the NLP algorithms. As a first step, we shall generate some word vectors with google pretrained word vectors. Let us load the first model and check how to deal with these models."
   ]
  },
  {
   "cell_type": "code",
   "execution_count": 73,
   "metadata": {},
   "outputs": [
    {
     "name": "stderr",
     "output_type": "stream",
     "text": [
      "Using TensorFlow backend.\n"
     ]
    }
   ],
   "source": [
    "import json, gensim\n",
    "import numpy as np\n",
    "import keras\n",
    "import tensorflow as tf\n",
    "from tensorflow.contrib import rnn"
   ]
  },
  {
   "cell_type": "code",
   "execution_count": 76,
   "metadata": {},
   "outputs": [],
   "source": [
    "model = gensim.models.KeyedVectors.load_word2vec_format('../models/GoogleNews-vectors-negative300.bin', binary = True)"
   ]
  },
  {
   "cell_type": "code",
   "execution_count": 78,
   "metadata": {},
   "outputs": [
    {
     "data": {
      "text/plain": [
       "'Jedi philosophy emphasized self-improvement through knowledge and wisdom, adherence to slave morality, and selfless service through acts of charity, citizenship, and volunteerism; this ideology is a recurring theme in the Star Wars universe'"
      ]
     },
     "execution_count": 78,
     "metadata": {},
     "output_type": "execute_result"
    }
   ],
   "source": [
    "sentences[2]"
   ]
  },
  {
   "cell_type": "code",
   "execution_count": 115,
   "metadata": {},
   "outputs": [
    {
     "data": {
      "text/plain": [
       "'Jedi philosophy emphasized self improvement through knowledge and wisdom  adherence to slave morality  and selfless service through acts of charity  citizenship  and volunteerism  this ideology is a recurring theme in the Star Wars universe'"
      ]
     },
     "execution_count": 115,
     "metadata": {},
     "output_type": "execute_result"
    }
   ],
   "source": [
    "import re\n",
    "s = sentences[2]\n",
    "s = re.sub(r'[^\\w\\s]', ' ', s)\n",
    "s"
   ]
  },
  {
   "cell_type": "code",
   "execution_count": 122,
   "metadata": {},
   "outputs": [],
   "source": [
    "lemma = []\n",
    "for word in s.split(' '):\n",
    "    if word != '':\n",
    "        lemma.append(l.lemmatize(word))"
   ]
  },
  {
   "cell_type": "code",
   "execution_count": 131,
   "metadata": {},
   "outputs": [],
   "source": [
    "vector = []\n",
    "for word in lemma:\n",
    "    try:\n",
    "        vector.append(model[word])\n",
    "    except:\n",
    "        vector.append(np.zeros(300))"
   ]
  },
  {
   "cell_type": "code",
   "execution_count": 132,
   "metadata": {},
   "outputs": [
    {
     "data": {
      "text/plain": [
       "(34, 300)"
      ]
     },
     "execution_count": 132,
     "metadata": {},
     "output_type": "execute_result"
    }
   ],
   "source": [
    "np.array(vector).shape"
   ]
  },
  {
   "cell_type": "code",
   "execution_count": 134,
   "metadata": {
    "scrolled": true
   },
   "outputs": [
    {
     "data": {
      "text/plain": [
       "array([ 0.61328125,  0.1640625 ,  0.38476562,  0.05444336,  0.09570312,\n",
       "        0.21484375, -0.03369141,  0.13183594,  0.14941406,  0.11425781,\n",
       "        0.13183594,  0.02258301, -0.18261719,  0.14941406, -0.18457031,\n",
       "       -0.078125  ,  0.02868652,  0.03515625, -0.11816406, -0.16699219,\n",
       "        0.17480469, -0.09863281,  0.18652344,  0.06152344, -0.22558594,\n",
       "        0.06884766, -0.00759888,  0.125     ,  0.20898438, -0.32421875,\n",
       "        0.1640625 , -0.05444336, -0.421875  ,  0.02648926,  0.03637695,\n",
       "       -0.19628906,  0.14941406, -0.11181641, -0.05322266, -0.00088501,\n",
       "        0.05615234, -0.26757812,  0.26953125,  0.09033203, -0.16699219,\n",
       "       -0.078125  ,  0.06030273,  0.08007812,  0.05175781,  0.02697754,\n",
       "       -0.30859375,  0.11181641, -0.12792969,  0.19433594, -0.02502441,\n",
       "        0.03588867,  0.14550781, -0.24609375, -0.01135254, -0.09863281,\n",
       "       -0.06640625,  0.62890625,  0.18261719,  0.24316406, -0.01660156,\n",
       "       -0.14453125, -0.10791016, -0.265625  ,  0.04492188,  0.12597656,\n",
       "       -0.18261719, -0.10058594, -0.2890625 , -0.02050781,  0.06738281,\n",
       "       -0.45117188,  0.34375   , -0.08154297, -0.00994873, -0.26367188,\n",
       "       -0.36523438, -0.02478027, -0.15820312, -0.3046875 , -0.24316406,\n",
       "       -0.21777344,  0.09863281,  0.06005859,  0.140625  , -0.14257812,\n",
       "       -0.09472656, -0.09863281, -0.47265625,  0.02502441,  0.26757812,\n",
       "        0.15234375, -0.05249023,  0.18652344, -0.30273438, -0.26367188,\n",
       "        0.03686523,  0.11132812, -0.07617188, -0.10595703,  0.05249023,\n",
       "       -0.27539062, -0.08056641,  0.06982422,  0.16796875, -0.01660156,\n",
       "       -0.18847656, -0.21972656,  0.04980469,  0.05859375,  0.08007812,\n",
       "        0.06347656, -0.12402344,  0.11328125,  0.24316406,  0.11279297,\n",
       "       -0.08837891, -0.20898438, -0.04858398, -0.390625  , -0.04370117,\n",
       "        0.19140625, -0.16015625,  0.22949219, -0.03271484, -0.02075195,\n",
       "        0.0559082 , -0.06982422, -0.46289062,  0.04052734,  0.16113281,\n",
       "        0.26367188, -0.18457031,  0.01843262, -0.01965332, -0.34179688,\n",
       "        0.30664062, -0.10449219, -0.20703125, -0.14257812,  0.11279297,\n",
       "        0.14746094,  0.11230469, -0.04296875,  0.33984375,  0.00328064,\n",
       "        0.16699219,  0.3359375 ,  0.00915527,  0.40039062, -0.20214844,\n",
       "       -0.18457031,  0.07714844, -0.09179688,  0.01977539,  0.02490234,\n",
       "        0.01403809, -0.1796875 , -0.03039551, -0.22851562, -0.3984375 ,\n",
       "       -0.24609375,  0.2890625 ,  0.44140625, -0.05297852, -0.08154297,\n",
       "        0.0559082 , -0.0246582 , -0.05615234,  0.48828125,  0.15820312,\n",
       "       -0.29296875, -0.09912109, -0.12109375,  0.26367188, -0.54296875,\n",
       "       -0.16210938, -0.40039062,  0.27539062, -0.08056641, -0.1640625 ,\n",
       "       -0.09521484,  0.18847656,  0.33398438,  0.39257812, -0.2734375 ,\n",
       "       -0.23925781,  0.0559082 , -0.13378906, -0.17089844,  0.421875  ,\n",
       "        0.00643921,  0.01330566, -0.05541992, -0.15625   , -0.07958984,\n",
       "        0.3203125 , -0.15820312,  0.06030273, -0.12451172, -0.07666016,\n",
       "       -0.15722656, -0.5546875 , -0.41796875, -0.33203125,  0.07617188,\n",
       "       -0.22949219,  0.0168457 ,  0.02880859, -0.4453125 , -0.17382812,\n",
       "        0.33398438, -0.14941406, -0.44335938,  0.25585938,  0.07519531,\n",
       "       -0.16894531, -0.15527344,  0.6171875 , -0.22949219, -0.26367188,\n",
       "       -0.12597656, -0.11279297,  0.078125  ,  0.06298828, -0.23046875,\n",
       "        0.05761719, -0.16210938,  0.29296875,  0.07666016,  0.1875    ,\n",
       "        0.08789062,  0.25195312, -0.33984375,  0.13964844, -0.05175781,\n",
       "        0.11474609, -0.16210938,  0.22167969, -0.3203125 ,  0.26171875,\n",
       "       -0.38867188, -0.43359375,  0.37695312,  0.11035156, -0.16308594,\n",
       "       -0.359375  , -0.29101562,  0.32226562,  0.14648438,  0.01483154,\n",
       "        0.08447266,  0.13476562, -0.30078125, -0.25390625, -0.28125   ,\n",
       "        0.1328125 , -0.09423828, -0.07666016, -0.31640625, -0.04125977,\n",
       "       -0.08300781, -0.18554688, -0.16796875, -0.1484375 ,  0.04125977,\n",
       "       -0.07226562, -0.01513672,  0.07421875,  0.5390625 ,  0.17675781,\n",
       "       -0.26757812,  0.22949219, -0.53125   ,  0.0255127 ,  0.18164062,\n",
       "       -0.13378906,  0.26757812,  0.11425781,  0.24316406,  0.5390625 ,\n",
       "        0.15429688, -0.25390625, -0.33789062,  0.01989746,  0.0703125 ,\n",
       "       -0.1328125 ,  0.3125    , -0.15429688,  0.11328125, -0.09863281,\n",
       "       -0.24804688,  0.12353516, -0.04248047,  0.04785156,  0.06835938],\n",
       "      dtype=float32)"
      ]
     },
     "execution_count": 134,
     "metadata": {},
     "output_type": "execute_result"
    }
   ],
   "source": [
    "vector[0]"
   ]
  },
  {
   "cell_type": "code",
   "execution_count": 141,
   "metadata": {},
   "outputs": [],
   "source": [
    "import seaborn as sns\n",
    "import matplotlib.pyplot as plt"
   ]
  },
  {
   "cell_type": "code",
   "execution_count": 144,
   "metadata": {},
   "outputs": [
    {
     "data": {
      "text/plain": [
       "<matplotlib.axes._subplots.AxesSubplot at 0x22c56eac8>"
      ]
     },
     "execution_count": 144,
     "metadata": {},
     "output_type": "execute_result"
    },
    {
     "data": {
      "image/png": "[encoded data removed]",
      "text/plain": [
       "<Figure size 720x504 with 2 Axes>"
      ]
     },
     "metadata": {
      "needs_background": "light"
     },
     "output_type": "display_data"
    }
   ],
   "source": [
    "plt.subplots(figsize = (10,7))\n",
    "sns.heatmap(vector, cmap='RdBu_r')"
   ]
  },
  {
   "cell_type": "code",
   "execution_count": null,
   "metadata": {},
   "outputs": [],
   "source": []
  }
 ],
 "metadata": {
  "kernelspec": {
   "display_name": "Python 3",
   "language": "python",
   "name": "python3"
  },
  "language_info": {
   "codemirror_mode": {
    "name": "ipython",
    "version": 3
   },
   "file_extension": ".py",
   "mimetype": "text/x-python",
   "name": "python",
   "nbconvert_exporter": "python",
   "pygments_lexer": "ipython3",
   "version": "3.6.5"
  }
 },
 "nbformat": 4,
 "nbformat_minor": 2
}
