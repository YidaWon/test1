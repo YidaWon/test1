{
 "cells": [
  {
   "cell_type": "code",
   "execution_count": 2,
   "metadata": {},
   "outputs": [
    {
     "data": {
      "text/plain": [
       "'/Users/beepbopiamarobot/Documents/projects/test1/notebooks'"
      ]
     },
     "execution_count": 2,
     "metadata": {},
     "output_type": "execute_result"
    }
   ],
   "source": [
    "pwd"
   ]
  },
  {
   "cell_type": "code",
   "execution_count": 3,
   "metadata": {},
   "outputs": [
    {
     "name": "stdout",
     "output_type": "stream",
     "text": [
      "/Users/beepbopiamarobot/Documents/projects/test1/src\n"
     ]
    }
   ],
   "source": [
    "cd ../src"
   ]
  },
  {
   "cell_type": "code",
   "execution_count": 4,
   "metadata": {
    "scrolled": true
   },
   "outputs": [],
   "source": [
    "import ssl\n",
    "ssl._create_default_https_context = ssl._create_unverified_context"
   ]
  },
  {
   "cell_type": "code",
   "execution_count": 5,
   "metadata": {
    "scrolled": true
   },
   "outputs": [
    {
     "name": "stdout",
     "output_type": "stream",
     "text": [
      "Package                  Version   \n",
      "------------------------ ----------\n",
      "absl-py                  0.7.0     \n",
      "alabaster                0.7.12    \n",
      "appnope                  0.1.0     \n",
      "astor                    0.7.1     \n",
      "atomicwrites             1.3.0     \n",
      "attrs                    18.2.0    \n",
      "Babel                    2.6.0     \n",
      "backcall                 0.1.0     \n",
      "bleach                   3.1.0     \n",
      "boto                     2.49.0    \n",
      "boto3                    1.9.143   \n",
      "botocore                 1.12.143  \n",
      "branca                   0.3.1     \n",
      "certifi                  2018.11.29\n",
      "chardet                  3.0.4     \n",
      "coverage                 4.5.2     \n",
      "cycler                   0.10.0    \n",
      "decorator                4.3.2     \n",
      "defusedxml               0.5.0     \n",
      "docutils                 0.14      \n",
      "entrypoints              0.3       \n",
      "folium                   0.8.0     \n",
      "gast                     0.2.2     \n",
      "gensim                   3.7.2     \n",
      "grpcio                   1.18.0    \n",
      "h5py                     2.9.0     \n",
      "idna                     2.8       \n",
      "imagesize                1.1.0     \n",
      "ipykernel                5.1.0     \n",
      "ipython                  7.3.0     \n",
      "ipython-genutils         0.2.0     \n",
      "ipywidgets               7.4.2     \n",
      "jedi                     0.13.3    \n",
      "Jinja2                   2.10      \n",
      "jmespath                 0.9.4     \n",
      "jsonschema               3.0.1     \n",
      "jupyter                  1.0.0     \n",
      "jupyter-client           5.2.4     \n",
      "jupyter-console          6.0.0     \n",
      "jupyter-core             4.4.0     \n",
      "Keras                    2.2.4     \n",
      "Keras-Applications       1.0.7     \n",
      "Keras-Preprocessing      1.0.9     \n",
      "kiwisolver               1.0.1     \n",
      "Markdown                 3.0.1     \n",
      "MarkupSafe               1.1.1     \n",
      "matplotlib               3.0.2     \n",
      "mistune                  0.8.4     \n",
      "more-itertools           6.0.0     \n",
      "nbconvert                5.4.1     \n",
      "nbformat                 4.4.0     \n",
      "networkx                 2.2       \n",
      "nltk                     3.4.1     \n",
      "notebook                 5.7.8     \n",
      "numpy                    1.16.1    \n",
      "packaging                19.0      \n",
      "pandas                   0.24.1    \n",
      "pandocfilters            1.4.2     \n",
      "parso                    0.3.4     \n",
      "pexpect                  4.6.0     \n",
      "pickleshare              0.7.5     \n",
      "pip                      19.0.3    \n",
      "pluggy                   0.9.0     \n",
      "prometheus-client        0.6.0     \n",
      "prompt-toolkit           2.0.9     \n",
      "protobuf                 3.6.1     \n",
      "psycopg2                 2.7.7     \n",
      "ptyprocess               0.6.0     \n",
      "py                       1.8.0     \n",
      "pydot                    1.4.1     \n",
      "Pygments                 2.3.1     \n",
      "pyparsing                2.3.1     \n",
      "pyrsistent               0.14.11   \n",
      "pytest                   4.3.0     \n",
      "pytest-cov               2.6.1     \n",
      "python-dateutil          2.8.0     \n",
      "python-logstash          0.4.6     \n",
      "pytz                     2018.9    \n",
      "PyYAML                   3.13      \n",
      "pyzmq                    18.0.1    \n",
      "qtconsole                4.4.3     \n",
      "requests                 2.21.0    \n",
      "s3transfer               0.2.0     \n",
      "scikit-learn             0.20.2    \n",
      "scipy                    1.2.1     \n",
      "seaborn                  0.9.0     \n",
      "Send2Trash               1.5.0     \n",
      "setuptools               39.0.1    \n",
      "six                      1.12.0    \n",
      "sklearn                  0.0       \n",
      "smart-open               1.8.3     \n",
      "snowballstemmer          1.2.1     \n",
      "Sphinx                   1.8.4     \n",
      "sphinx-rtd-theme         0.4.3     \n",
      "sphinxcontrib-websupport 1.1.0     \n",
      "tensorboard              1.12.2    \n",
      "tensorflow               1.12.0    \n",
      "termcolor                1.1.0     \n",
      "terminado                0.8.2     \n",
      "testpath                 0.4.2     \n",
      "tornado                  6.0.2     \n",
      "tqdm                     4.31.1    \n",
      "traitlets                4.3.2     \n",
      "urllib3                  1.24.1    \n",
      "wcwidth                  0.1.7     \n",
      "webencodings             0.5.1     \n",
      "Werkzeug                 0.14.1    \n",
      "wheel                    0.33.1    \n",
      "widgetsnbextension       3.4.2     \n",
      "\u001b[33mYou are using pip version 19.0.3, however version 19.1 is available.\n",
      "You should consider upgrading via the 'pip install --upgrade pip' command.\u001b[0m\n",
      "Note: you may need to restart the kernel to use updated packages.\n"
     ]
    }
   ],
   "source": [
    "pip list"
   ]
  },
  {
   "cell_type": "code",
   "execution_count": 6,
   "metadata": {},
   "outputs": [
    {
     "name": "stdout",
     "output_type": "stream",
     "text": [
      "1.12.0\n"
     ]
    }
   ],
   "source": [
    "from __future__ import absolute_import, division, print_function\n",
    "\n",
    "#TensorFlow and tf.keras\n",
    "import tensorflow as tf\n",
    "from tensorflow import keras\n",
    "\n",
    "#Helper libraries\n",
    "import numpy as np\n",
    "import matplotlib.pyplot as plt\n",
    "\n",
    "print(tf.__version__)"
   ]
  },
  {
   "cell_type": "code",
   "execution_count": 7,
   "metadata": {},
   "outputs": [
    {
     "name": "stdout",
     "output_type": "stream",
     "text": [
      "Downloading data from https://storage.googleapis.com/tensorflow/tf-keras-datasets/mnist.npz\n",
      "11493376/11490434 [==============================] - 1s 0us/step\n"
     ]
    }
   ],
   "source": [
    "mnist = keras.datasets.mnist\n",
    "(x_train, y_train),(x_test, y_test) = mnist.load_data()\n"
   ]
  },
  {
   "cell_type": "code",
   "execution_count": 8,
   "metadata": {},
   "outputs": [
    {
     "name": "stdout",
     "output_type": "stream",
     "text": [
      "Downloading data from https://storage.googleapis.com/tensorflow/tf-keras-datasets/train-labels-idx1-ubyte.gz\n",
      "32768/29515 [=================================] - 0s 0us/step\n",
      "Downloading data from https://storage.googleapis.com/tensorflow/tf-keras-datasets/train-images-idx3-ubyte.gz\n",
      "26427392/26421880 [==============================] - 3s 0us/step\n",
      "Downloading data from https://storage.googleapis.com/tensorflow/tf-keras-datasets/t10k-labels-idx1-ubyte.gz\n",
      "8192/5148 [===============================================] - 0s 0us/step\n",
      "Downloading data from https://storage.googleapis.com/tensorflow/tf-keras-datasets/t10k-images-idx3-ubyte.gz\n",
      "4423680/4422102 [==============================] - 0s 0us/step\n"
     ]
    }
   ],
   "source": [
    "#Import fashion mnist\n",
    "fashion_mnist = keras.datasets.fashion_mnist\n",
    "\n",
    "(train_images, train_labels),(test_images, test_labels) = fashion_mnist.load_data()"
   ]
  },
  {
   "cell_type": "code",
   "execution_count": 9,
   "metadata": {},
   "outputs": [
    {
     "name": "stdout",
     "output_type": "stream",
     "text": [
      "Downloading data from https://storage.googleapis.com/tensorflow/tf-keras-datasets/imdb.npz\n",
      "17465344/17464789 [==============================] - 2s 0us/step\n"
     ]
    }
   ],
   "source": [
    "imdb = keras.datasets.imdb\n",
    "\n",
    "(train_data, train_labels),(test_data, test_labels) = imdb.load_data(num_words = 10000)"
   ]
  },
  {
   "cell_type": "code",
   "execution_count": null,
   "metadata": {},
   "outputs": [],
   "source": []
  }
 ],
 "metadata": {
  "kernelspec": {
   "display_name": "Python 3",
   "language": "python",
   "name": "python3"
  },
  "language_info": {
   "codemirror_mode": {
    "name": "ipython",
    "version": 3
   },
   "file_extension": ".py",
   "mimetype": "text/x-python",
   "name": "python",
   "nbconvert_exporter": "python",
   "pygments_lexer": "ipython3",
   "version": "3.6.5"
  }
 },
 "nbformat": 4,
 "nbformat_minor": 2
}
